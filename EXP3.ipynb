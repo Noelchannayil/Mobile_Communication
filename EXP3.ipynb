{
  "nbformat": 4,
  "nbformat_minor": 0,
  "metadata": {
    "colab": {
      "provenance": [],
      "authorship_tag": "ABX9TyMuUlvtNTqP1LZzuQ9dhh0g",
      "include_colab_link": true
    },
    "kernelspec": {
      "name": "python3",
      "display_name": "Python 3"
    },
    "language_info": {
      "name": "python"
    }
  },
  "cells": [
    {
      "cell_type": "markdown",
      "metadata": {
        "id": "view-in-github",
        "colab_type": "text"
      },
      "source": [
        "<a href=\"https://colab.research.google.com/github/Noelchannayil/Mobile_Communication/blob/main/EXP3.ipynb\" target=\"_parent\"><img src=\"https://colab.research.google.com/assets/colab-badge.svg\" alt=\"Open In Colab\"/></a>"
      ]
    },
    {
      "cell_type": "code",
      "execution_count": null,
      "metadata": {
        "id": "PScsMvkGY4x6"
      },
      "outputs": [],
      "source": [
        "import numpy as np\n",
        "import matplotlib.pyplot as plt"
      ]
    },
    {
      "cell_type": "code",
      "source": [
        "TotalArea=1300\n",
        "N=7\n",
        "Radius_of_each_cell=4\n",
        "Total_BW_alloted_to_city=40*10**6\n",
        "Each_channel_BW=60*10**3\n",
        "GOS=0.02\n",
        "Au=0.03"
      ],
      "metadata": {
        "id": "S5wzOVNYZFEh"
      },
      "execution_count": null,
      "outputs": []
    },
    {
      "cell_type": "code",
      "source": [
        "#Part A\n",
        "Area_Hexagonal_cell=((3*np.sqrt(3))/2)*4**2\n",
        "#Compute number of cells\n",
        "No_of_cells=np.round(TotalArea/Area_Hexagonal_cell)\n",
        "print(No_of_cells)"
      ],
      "metadata": {
        "colab": {
          "base_uri": "https://localhost:8080/"
        },
        "id": "EqOorNXiZIUX",
        "outputId": "bebce6aa-ce2b-4ad3-abf3-617246daf376"
      },
      "execution_count": null,
      "outputs": [
        {
          "output_type": "stream",
          "name": "stdout",
          "text": [
            "31.0\n"
          ]
        }
      ]
    },
    {
      "cell_type": "code",
      "source": [
        "#Part B\n",
        "#B1\n",
        "X=Total_BW_alloted_to_city/Each_channel_BW\n",
        "print(X) #X=No_of_channels/cells"
      ],
      "metadata": {
        "colab": {
          "base_uri": "https://localhost:8080/"
        },
        "id": "ZXMJwKH2ZLdn",
        "outputId": "cd3e084d-7acf-43a8-8fa5-00c6c12d55fe"
      },
      "execution_count": null,
      "outputs": [
        {
          "output_type": "stream",
          "name": "stdout",
          "text": [
            "666.6666666666666\n"
          ]
        }
      ]
    },
    {
      "cell_type": "code",
      "source": [
        "#B2\n",
        "C = X/N\n",
        "print(C) #C=TotalChannels/cells"
      ],
      "metadata": {
        "colab": {
          "base_uri": "https://localhost:8080/"
        },
        "id": "MRLWdjFlZPQE",
        "outputId": "d5315a69-4e84-4838-d7cf-c46cee099a12"
      },
      "execution_count": null,
      "outputs": [
        {
          "output_type": "stream",
          "name": "stdout",
          "text": [
            "95.23809523809523\n"
          ]
        }
      ]
    },
    {
      "cell_type": "code",
      "source": [
        "#Part C\n",
        "D=No_of_cells*84\n",
        "print(D)  #Max_Carried_Traffic"
      ],
      "metadata": {
        "colab": {
          "base_uri": "https://localhost:8080/"
        },
        "id": "TPp41XzKZUhw",
        "outputId": "ef296d7e-973f-4e28-9000-b63454fda4f5"
      },
      "execution_count": null,
      "outputs": [
        {
          "output_type": "stream",
          "name": "stdout",
          "text": [
            "2604.0\n"
          ]
        }
      ]
    },
    {
      "cell_type": "code",
      "source": [
        "#Part D\n",
        "U=D/Au\n",
        "print(U) #U=Max_Carried_Traffic/Au #Total Users"
      ],
      "metadata": {
        "colab": {
          "base_uri": "https://localhost:8080/"
        },
        "id": "SSiNGmS2ZXym",
        "outputId": "51085228-1131-48c1-c30a-30690d057078"
      },
      "execution_count": null,
      "outputs": [
        {
          "output_type": "stream",
          "name": "stdout",
          "text": [
            "86800.0\n"
          ]
        }
      ]
    },
    {
      "cell_type": "code",
      "source": [
        "#Part E\n",
        "E=U/X\n",
        "print(E) #E=Total Channels/Total Users #Mobiles/Unit Cell"
      ],
      "metadata": {
        "colab": {
          "base_uri": "https://localhost:8080/"
        },
        "id": "FraWBOgfZbn5",
        "outputId": "d698ba75-c265-4faf-f6de-b6a10d8a9ded"
      },
      "execution_count": null,
      "outputs": [
        {
          "output_type": "stream",
          "name": "stdout",
          "text": [
            "130.20000000000002\n"
          ]
        }
      ]
    },
    {
      "cell_type": "code",
      "source": [
        "#Part F\n",
        "F=No_of_cells*C\n",
        "print(F)  #No_of_cells*Total Channels #F=Maxium users that can be served\n"
      ],
      "metadata": {
        "colab": {
          "base_uri": "https://localhost:8080/"
        },
        "id": "rFfnzTv1ZipQ",
        "outputId": "941f2977-63bf-4469-e57a-dd4fc9615337"
      },
      "execution_count": null,
      "outputs": [
        {
          "output_type": "stream",
          "name": "stdout",
          "text": [
            "2952.380952380952\n"
          ]
        }
      ]
    }
  ]
}